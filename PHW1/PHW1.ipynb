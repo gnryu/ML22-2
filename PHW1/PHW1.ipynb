{
  "nbformat": 4,
  "nbformat_minor": 0,
  "metadata": {
    "colab": {
      "provenance": [],
      "collapsed_sections": [],
      "include_colab_link": true
    },
    "kernelspec": {
      "name": "python3",
      "display_name": "Python 3"
    },
    "language_info": {
      "name": "python"
    }
  },
  "cells": [
    {
      "cell_type": "markdown",
      "metadata": {
        "id": "view-in-github",
        "colab_type": "text"
      },
      "source": [
        "<a href=\"https://colab.research.google.com/github/gnryu/ML22-2/blob/main/PHW1/PHW1.ipynb\" target=\"_parent\"><img src=\"https://colab.research.google.com/assets/colab-badge.svg\" alt=\"Open In Colab\"/></a>"
      ]
    },
    {
      "cell_type": "code",
      "source": [
        "# download the dataset using the wget command\n",
        "!wget https://archive.ics.uci.edu/ml/machine-learning-databases/breast-cancer-wisconsin/breast-cancer-wisconsin.data"
      ],
      "metadata": {
        "colab": {
          "base_uri": "https://localhost:8080/"
        },
        "id": "VfyiatJiCrH0",
        "outputId": "bc807fb4-2ad1-4448-a93d-72c586042f1c"
      },
      "execution_count": null,
      "outputs": [
        {
          "output_type": "stream",
          "name": "stdout",
          "text": [
            "--2022-09-19 23:56:40--  https://archive.ics.uci.edu/ml/machine-learning-databases/breast-cancer-wisconsin/breast-cancer-wisconsin.data\n",
            "Resolving archive.ics.uci.edu (archive.ics.uci.edu)... 128.195.10.252\n",
            "Connecting to archive.ics.uci.edu (archive.ics.uci.edu)|128.195.10.252|:443... connected.\n",
            "HTTP request sent, awaiting response... 200 OK\n",
            "Length: 19889 (19K) [application/x-httpd-php]\n",
            "Saving to: ‘breast-cancer-wisconsin.data.3’\n",
            "\n",
            "breast-cancer-wisco 100%[===================>]  19.42K   126KB/s    in 0.2s    \n",
            "\n",
            "2022-09-19 23:56:41 (126 KB/s) - ‘breast-cancer-wisconsin.data.3’ saved [19889/19889]\n",
            "\n"
          ]
        }
      ]
    },
    {
      "cell_type": "code",
      "execution_count": null,
      "metadata": {
        "id": "LQaqt91wCjCa"
      },
      "outputs": [],
      "source": [
        "import numpy as np\n",
        "import pandas as pd\n",
        "from sklearn.preprocessing import RobustScaler\n",
        "from sklearn.model_selection import GridSearchCV, cross_val_score, StratifiedKFold "
      ]
    },
    {
      "cell_type": "code",
      "source": [
        "data = pd.read_csv('breast-cancer-wisconsin.data', sep=',', header=None)\n",
        "print(data)"
      ],
      "metadata": {
        "colab": {
          "base_uri": "https://localhost:8080/"
        },
        "id": "Q0ECr2i3CwPi",
        "outputId": "f03f4b9a-f354-42be-c116-573361bff186"
      },
      "execution_count": null,
      "outputs": [
        {
          "output_type": "stream",
          "name": "stdout",
          "text": [
            "          0   1   2   3   4   5   6   7   8   9   10\n",
            "0    1000025   5   1   1   1   2   1   3   1   1   2\n",
            "1    1002945   5   4   4   5   7  10   3   2   1   2\n",
            "2    1015425   3   1   1   1   2   2   3   1   1   2\n",
            "3    1016277   6   8   8   1   3   4   3   7   1   2\n",
            "4    1017023   4   1   1   3   2   1   3   1   1   2\n",
            "..       ...  ..  ..  ..  ..  ..  ..  ..  ..  ..  ..\n",
            "694   776715   3   1   1   1   3   2   1   1   1   2\n",
            "695   841769   2   1   1   1   2   1   1   1   1   2\n",
            "696   888820   5  10  10   3   7   3   8  10   2   4\n",
            "697   897471   4   8   6   4   3   4  10   6   1   4\n",
            "698   897471   4   8   8   5   4   5  10   4   1   4\n",
            "\n",
            "[699 rows x 11 columns]\n"
          ]
        }
      ]
    },
    {
      "cell_type": "code",
      "source": [
        "# drop the feature of 'ID'\n",
        "data = data.drop([data.columns[0]], axis = 1)\n",
        "print(data)"
      ],
      "metadata": {
        "colab": {
          "base_uri": "https://localhost:8080/"
        },
        "id": "jeiwKcIjCxUb",
        "outputId": "1128a1df-6804-4907-b5a2-b98c64e1d5c1"
      },
      "execution_count": null,
      "outputs": [
        {
          "output_type": "stream",
          "name": "stdout",
          "text": [
            "     1   2   3   4   5   6   7   8   9   10\n",
            "0     5   1   1   1   2   1   3   1   1   2\n",
            "1     5   4   4   5   7  10   3   2   1   2\n",
            "2     3   1   1   1   2   2   3   1   1   2\n",
            "3     6   8   8   1   3   4   3   7   1   2\n",
            "4     4   1   1   3   2   1   3   1   1   2\n",
            "..   ..  ..  ..  ..  ..  ..  ..  ..  ..  ..\n",
            "694   3   1   1   1   3   2   1   1   1   2\n",
            "695   2   1   1   1   2   1   1   1   1   2\n",
            "696   5  10  10   3   7   3   8  10   2   4\n",
            "697   4   8   6   4   3   4  10   6   1   4\n",
            "698   4   8   8   5   4   5  10   4   1   4\n",
            "\n",
            "[699 rows x 10 columns]\n"
          ]
        }
      ]
    },
    {
      "cell_type": "code",
      "source": [
        "# replace the value of ? to NaN\n",
        "data.replace(\"?\", np.NaN, inplace = True)\n",
        "print(data.isna().sum())"
      ],
      "metadata": {
        "colab": {
          "base_uri": "https://localhost:8080/"
        },
        "id": "VJ82CaIUDFci",
        "outputId": "af96c741-6b44-404e-9a66-70581f3e18ac"
      },
      "execution_count": null,
      "outputs": [
        {
          "output_type": "stream",
          "name": "stdout",
          "text": [
            "1      0\n",
            "2      0\n",
            "3      0\n",
            "4      0\n",
            "5      0\n",
            "6     16\n",
            "7      0\n",
            "8      0\n",
            "9      0\n",
            "10     0\n",
            "dtype: int64\n"
          ]
        }
      ]
    },
    {
      "cell_type": "code",
      "source": [
        "# drop the row which has NaN value\n",
        "data.dropna(inplace = True)"
      ],
      "metadata": {
        "id": "ESF41VrlDG1d"
      },
      "execution_count": null,
      "outputs": []
    },
    {
      "cell_type": "code",
      "source": [
        "data = data.astype(dtype = 'int64')\n",
        "print(data.dtypes)"
      ],
      "metadata": {
        "colab": {
          "base_uri": "https://localhost:8080/"
        },
        "id": "xUCo7B3WDJNh",
        "outputId": "958f9bb8-ed3c-4c31-c9e2-9f35ee761bef"
      },
      "execution_count": null,
      "outputs": [
        {
          "output_type": "stream",
          "name": "stdout",
          "text": [
            "1     int64\n",
            "2     int64\n",
            "3     int64\n",
            "4     int64\n",
            "5     int64\n",
            "6     int64\n",
            "7     int64\n",
            "8     int64\n",
            "9     int64\n",
            "10    int64\n",
            "dtype: object\n"
          ]
        }
      ]
    },
    {
      "cell_type": "code",
      "source": [
        "X = data.iloc[:, :9]\n",
        "print(X)\n",
        "\n",
        "y = data.iloc[:,-1] # target feature\n",
        "print(y)"
      ],
      "metadata": {
        "colab": {
          "base_uri": "https://localhost:8080/"
        },
        "id": "ChatgdyyDLsr",
        "outputId": "bf65b0c5-97fe-4cbd-fd33-4a142ac463d0"
      },
      "execution_count": null,
      "outputs": [
        {
          "output_type": "stream",
          "name": "stdout",
          "text": [
            "     1   2   3  4  5   6   7   8  9\n",
            "0    5   1   1  1  2   1   3   1  1\n",
            "1    5   4   4  5  7  10   3   2  1\n",
            "2    3   1   1  1  2   2   3   1  1\n",
            "3    6   8   8  1  3   4   3   7  1\n",
            "4    4   1   1  3  2   1   3   1  1\n",
            "..  ..  ..  .. .. ..  ..  ..  .. ..\n",
            "694  3   1   1  1  3   2   1   1  1\n",
            "695  2   1   1  1  2   1   1   1  1\n",
            "696  5  10  10  3  7   3   8  10  2\n",
            "697  4   8   6  4  3   4  10   6  1\n",
            "698  4   8   8  5  4   5  10   4  1\n",
            "\n",
            "[683 rows x 9 columns]\n",
            "0      2\n",
            "1      2\n",
            "2      2\n",
            "3      2\n",
            "4      2\n",
            "      ..\n",
            "694    2\n",
            "695    2\n",
            "696    4\n",
            "697    4\n",
            "698    4\n",
            "Name: 10, Length: 683, dtype: int64\n"
          ]
        }
      ]
    },
    {
      "cell_type": "code",
      "source": [
        "# hyper parameter dictionary - for each model\n",
        "hyper_parameter_dict = {\n",
        "    'svm' : {'kernel' : ['linear', 'rbf'],\n",
        "             'C' : [0.1, 1, 10],\n",
        "             'gamma' : [0.001, 0.1, 1, 'scale', 'auto']\n",
        "             },\n",
        "    'DecisionTree': {\n",
        "        \"min_samples_leaf\":[1, 2, 3, 4, 5, 6, 7, 8, 9],\n",
        "        \"max_depth\":[2, 3, 4, 5, 6, None],\n",
        "        \"min_samples_split\":[2, 3, 4, 5, 6, 7, 8, 9, 10]\n",
        "    },\n",
        "    'logistic':{\n",
        "        'solver':['liblinear'], \n",
        "         'penalty':['l2', 'l1'],\n",
        "        'C':[0.001, 0.01, 0.1, 1, 10]\n",
        "    }\n",
        "}"
      ],
      "metadata": {
        "id": "AO5BeizXDM8E"
      },
      "execution_count": null,
      "outputs": []
    },
    {
      "cell_type": "code",
      "source": [
        "from sklearn import svm\n",
        "\n",
        "def SVM(X, Y, dt):\n",
        "\n",
        "  model = svm.SVC()\n",
        "      \n",
        "  print(\"Params for grid search : \", dt)\n",
        "  gs = GridSearchCV(model, param_grid=dt, cv=7, refit=True)\n",
        "  gs.fit(X, Y)\n",
        "\n",
        "  print(\"best_params: \", gs.best_params_)\n",
        "\n",
        "  best_model = svm.SVC(kernel = gs.best_params_['kernel'], C = gs.best_params_['C'], gamma = gs.best_params_['gamma'])\n",
        "\n",
        "  # Make best model with best parameters that the results of GridSearchCV\n",
        "      \n",
        "  return best_model"
      ],
      "metadata": {
        "id": "NwLg36agXtry"
      },
      "execution_count": null,
      "outputs": []
    },
    {
      "cell_type": "code",
      "source": [
        "from sklearn.linear_model import LogisticRegression\n",
        "\n",
        "def Logistic(X, Y, dt):\n",
        "  model = LogisticRegression()\n",
        "\n",
        "  print(\"Params for grid search : \", dt)\n",
        "  \n",
        "  gs = GridSearchCV(model, param_grid=dt, cv=7, refit=True)\n",
        "  gs.fit(X, Y)\n",
        "  print(\"best_params: \", gs.best_params_)\n",
        "\n",
        "  best_model = LogisticRegression(penalty = gs.best_params_['penalty'],solver = gs.best_params_['solver'], C = gs.best_params_['C'])\n",
        "  \n",
        "\n",
        "  return best_model\n"
      ],
      "metadata": {
        "id": "oi1SmQFICDDt"
      },
      "execution_count": null,
      "outputs": []
    },
    {
      "cell_type": "code",
      "source": [
        "from sklearn.tree import DecisionTreeClassifier\n",
        "\n",
        "def DecisionTree(criterion, X, Y, dt):\n",
        "  model = DecisionTreeClassifier(criterion=criterion)\n",
        "\n",
        "  print(\"Params for grid search : \", dt)\n",
        "  gs = GridSearchCV(model, param_grid=dt, cv=7, refit=True)\n",
        "  gs.fit(X, Y)\n",
        "  print(\"best_params: \", gs.best_params_)\n",
        "\n",
        "  # Make best model with best parameters that the results of GridSearchCV\n",
        "  best_model = DecisionTreeClassifier(criterion=criterion, max_depth=gs.best_params_['max_depth'], min_samples_split=gs.best_params_['min_samples_split'], min_samples_leaf=gs.best_params_['min_samples_leaf'])\n",
        "  return best_model"
      ],
      "metadata": {
        "id": "gIrCqJB7Emzk"
      },
      "execution_count": null,
      "outputs": []
    },
    {
      "cell_type": "code",
      "source": [
        "def main(X, target, model_code, scaling_TF, k, dict):\n",
        "  # if 'scaling_TF' is true, call robust_scaling function\n",
        "  print(\"n-fold(K) : \", k)\n",
        "  print(\"Scaling : \", scaling_TF)\n",
        "  if scaling_TF == True:\n",
        "    scaler = RobustScaler()\n",
        "    X = scaler.fit_transform(X)\n",
        "\n",
        "  # 4 different model code\n",
        "  if model_code == 0:\n",
        "    # Decision tree (using entropy)\n",
        "    print(\"Used model : Decision tree (using entropy)\")\n",
        "    model = DecisionTree('entropy', X, target, dict['DecisionTree'])\n",
        "  elif model_code == 1:\n",
        "    # Decision tree (using Gini index)\n",
        "    print(\"Used model : Decision tree (using Gini index)\")\n",
        "    model = DecisionTree('gini', X, target, dict['DecisionTree'])\n",
        "  elif model_code == 2:\n",
        "    # Logistic regression\n",
        "    print(\"Used model : Logistic regression\")\n",
        "    model = Logistic(X, target, dict['logistic'])\n",
        "  elif model_code == 3:\n",
        "    # Support vector machine\n",
        "    print(\"Used model : Support vector machine\")\n",
        "    model = SVM(X, target, dict['svm'])\n",
        "\n",
        "  # various numbers k for k-fold cross validation\n",
        "  cv_scores = cross_val_score(model, X, target, cv = k)\n",
        "\n",
        "  # print the average of cv_scores\n",
        "  print('cv_scores mean : {}\\n\\n'.format(np.mean(cv_scores)))"
      ],
      "metadata": {
        "id": "RvfcHQSQDTPV"
      },
      "execution_count": null,
      "outputs": []
    },
    {
      "cell_type": "code",
      "source": [
        "main(X, y, 0, False, 7, hyper_parameter_dict)\n",
        "main(X, y, 0, True, 7, hyper_parameter_dict)"
      ],
      "metadata": {
        "id": "2ZRHT3rADW1Y",
        "colab": {
          "base_uri": "https://localhost:8080/"
        },
        "outputId": "20f6a20c-b301-4645-cd81-200545dcbfbf"
      },
      "execution_count": null,
      "outputs": [
        {
          "output_type": "stream",
          "name": "stdout",
          "text": [
            "n-fold(K) :  7\n",
            "Scaling :  False\n",
            "Used model : Decision tree (using entropy)\n",
            "Params for grid search :  {'min_samples_leaf': [1, 2, 3, 4, 5, 6, 7, 8, 9], 'max_depth': [2, 3, 4, 5, 6, None], 'min_samples_split': [2, 3, 4, 5, 6, 7, 8, 9, 10]}\n",
            "best_params:  {'max_depth': 5, 'min_samples_leaf': 3, 'min_samples_split': 3}\n",
            "cv_scores mean : 0.950347149168946\n",
            "\n",
            "\n",
            "n-fold(K) :  7\n",
            "Scaling :  True\n",
            "Used model : Decision tree (using entropy)\n",
            "Params for grid search :  {'min_samples_leaf': [1, 2, 3, 4, 5, 6, 7, 8, 9], 'max_depth': [2, 3, 4, 5, 6, None], 'min_samples_split': [2, 3, 4, 5, 6, 7, 8, 9, 10]}\n",
            "best_params:  {'max_depth': 5, 'min_samples_leaf': 3, 'min_samples_split': 5}\n",
            "cv_scores mean : 0.9518048751164679\n",
            "\n",
            "\n"
          ]
        }
      ]
    },
    {
      "cell_type": "code",
      "source": [
        "main(X, y, 1, False, 10, hyper_parameter_dict)\n",
        "main(X, y, 1, True, 7, hyper_parameter_dict)"
      ],
      "metadata": {
        "colab": {
          "base_uri": "https://localhost:8080/"
        },
        "id": "UXUF_HZ-9pgX",
        "outputId": "0e04241d-b9e6-42a2-8f0d-1e5c0db8f609"
      },
      "execution_count": null,
      "outputs": [
        {
          "output_type": "stream",
          "name": "stdout",
          "text": [
            "n-fold(K) :  10\n",
            "Scaling :  False\n",
            "Used model : Decision tree (using Gini index)\n",
            "Params for grid search :  {'min_samples_leaf': [1, 2, 3, 4, 5, 6, 7, 8, 9], 'max_depth': [2, 3, 4, 5, 6, None], 'min_samples_split': [2, 3, 4, 5, 6, 7, 8, 9, 10]}\n",
            "best_params:  {'max_depth': 6, 'min_samples_leaf': 1, 'min_samples_split': 4}\n",
            "cv_scores mean : 0.941538789428815\n",
            "\n",
            "\n",
            "n-fold(K) :  7\n",
            "Scaling :  True\n",
            "Used model : Decision tree (using Gini index)\n",
            "Params for grid search :  {'min_samples_leaf': [1, 2, 3, 4, 5, 6, 7, 8, 9], 'max_depth': [2, 3, 4, 5, 6, None], 'min_samples_split': [2, 3, 4, 5, 6, 7, 8, 9, 10]}\n",
            "best_params:  {'max_depth': 6, 'min_samples_leaf': 1, 'min_samples_split': 4}\n",
            "cv_scores mean : 0.9532475729614378\n",
            "\n",
            "\n"
          ]
        }
      ]
    },
    {
      "cell_type": "code",
      "source": [
        "main(X, y, 2, False, 7, hyper_parameter_dict)\n",
        "main(X, y, 2, True, 5, hyper_parameter_dict)"
      ],
      "metadata": {
        "colab": {
          "base_uri": "https://localhost:8080/"
        },
        "id": "j844Dfuk9p4h",
        "outputId": "5786bd19-87b2-44e6-fede-e7fefda3bb61"
      },
      "execution_count": null,
      "outputs": [
        {
          "output_type": "stream",
          "name": "stdout",
          "text": [
            "n-fold(K) :  7\n",
            "Scaling :  False\n",
            "Used model : Logistic regression\n",
            "Params for grid search :  {'solver': ['liblinear'], 'penalty': ['l2', 'l1'], 'C': [0.001, 0.01, 0.1, 1, 10]}\n",
            "best_params:  {'C': 10, 'penalty': 'l2', 'solver': 'liblinear'}\n",
            "cv_scores mean : 0.9649394367467163\n",
            "\n",
            "\n",
            "n-fold(K) :  5\n",
            "Scaling :  True\n",
            "Used model : Logistic regression\n",
            "Params for grid search :  {'solver': ['liblinear'], 'penalty': ['l2', 'l1'], 'C': [0.001, 0.01, 0.1, 1, 10]}\n",
            "best_params:  {'C': 0.01, 'penalty': 'l2', 'solver': 'liblinear'}\n",
            "cv_scores mean : 0.9722198368398454\n",
            "\n",
            "\n"
          ]
        }
      ]
    },
    {
      "cell_type": "code",
      "source": [
        "main(X, y, 3, False, 7, hyper_parameter_dict)\n",
        "main(X, y, 3, True, 10, hyper_parameter_dict)"
      ],
      "metadata": {
        "colab": {
          "base_uri": "https://localhost:8080/"
        },
        "id": "PSZKrIda9qMv",
        "outputId": "0c7af848-2556-4ff2-ba58-b88af0c8ec3a"
      },
      "execution_count": null,
      "outputs": [
        {
          "output_type": "stream",
          "name": "stdout",
          "text": [
            "n-fold(K) :  7\n",
            "Scaling :  False\n",
            "Used model : Support vector machine\n",
            "Params for grid search :  {'kernel': ['linear', 'rbf'], 'C': [0.1, 1, 10], 'gamma': [0.001, 0.1, 1, 'scale', 'auto']}\n",
            "best_params:  {'C': 0.1, 'gamma': 'scale', 'kernel': 'rbf'}\n",
            "cv_scores mean : 0.9693276426918338\n",
            "\n",
            "\n",
            "n-fold(K) :  10\n",
            "Scaling :  True\n",
            "Used model : Support vector machine\n",
            "Params for grid search :  {'kernel': ['linear', 'rbf'], 'C': [0.1, 1, 10], 'gamma': [0.001, 0.1, 1, 'scale', 'auto']}\n",
            "best_params:  {'C': 10, 'gamma': 0.001, 'kernel': 'rbf'}\n",
            "cv_scores mean : 0.9693094629156012\n",
            "\n",
            "\n"
          ]
        }
      ]
    },
    {
      "cell_type": "code",
      "source": [],
      "metadata": {
        "id": "ez8dD8agMAJa"
      },
      "execution_count": null,
      "outputs": []
    }
  ]
}